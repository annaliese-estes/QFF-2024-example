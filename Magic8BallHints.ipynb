{
  "nbformat": 4,
  "nbformat_minor": 0,
  "metadata": {
    "colab": {
      "provenance": [],
      "authorship_tag": "ABX9TyOu4ROL4o8tc1pw9G8Op8ps",
      "include_colab_link": true
    },
    "kernelspec": {
      "name": "python3",
      "display_name": "Python 3"
    },
    "language_info": {
      "name": "python"
    }
  },
  "cells": [
    {
      "cell_type": "markdown",
      "metadata": {
        "id": "view-in-github",
        "colab_type": "text"
      },
      "source": [
        "<a href=\"https://colab.research.google.com/github/annaliese-estes/QFF-2024-example/blob/main/Magic8BallHints.ipynb\" target=\"_parent\"><img src=\"https://colab.research.google.com/assets/colab-badge.svg\" alt=\"Open In Colab\"/></a>"
      ]
    },
    {
      "cell_type": "markdown",
      "source": [
        "# Magic 8 Ball\n",
        "\n",
        "Here, we will build a Magic 8 Ball program that randomly returns 1 of 8 possible responses. How do we use quantum computing to generate a random number? Computational space scales exponentially in quantum computing. Thus, if we need a random result out of 8 possibilities, our program needs to take a measurement of a quantum state vector that consists of 8 basis states, which represent the computational space of 3 qubits in an equal superposition.\n",
        "\n",
        "## Qiskit Patterns: Map Problem to Quantum Circuits and Operators\n",
        "\n",
        "We can think of this step as mapping our problem to be run on a quantum computer. This step needs to be done for any quantum computation, because our instinct is to think of problems in a classical way, while quantum computers work differently.\n",
        "\n",
        "Problem:\n",
        "I need a program to generate a random number out of 8.\n",
        "\n",
        "Mapping to a classical computer: generate a random integer in range(1,9)\n",
        "\n",
        "Mapping to a quantum computer: put 3 qubits into an equal superposition, which creates a quantum state vector with 8 basis states, each with an equal probability of being the result of a measurement"
      ],
      "metadata": {
        "id": "gQ3Jb4s2gcUV"
      }
    },
    {
      "cell_type": "code",
      "execution_count": null,
      "metadata": {
        "id": "qPhEs6_zgK1G"
      },
      "outputs": [],
      "source": [
        "# install Qiskit with visualization\n",
        "\n",
        "!pip install qiskit[visualization]"
      ]
    },
    {
      "cell_type": "code",
      "source": [
        "# install additional packages\n",
        "\n",
        "from qiskit import QuantumCircuit\n",
        "from qiskit.visualization import plot_histogram\n",
        "from qiskit.primitives import StatevectorSampler\n",
        "import math\n",
        "import matplotlib.pyplot as plt"
      ],
      "metadata": {
        "id": "q3KbMeZllTjW"
      },
      "execution_count": null,
      "outputs": []
    },
    {
      "cell_type": "code",
      "source": [
        "# define eight Magic 8 Ball responses\n",
        "\n",
        "responses = []"
      ],
      "metadata": {
        "id": "4evG_GNBlWxt"
      },
      "execution_count": null,
      "outputs": []
    },
    {
      "cell_type": "code",
      "source": [
        "# set up a Quantum circuit with 3 qubits\n",
        "# YOUR CODE HERE\n",
        "\n",
        "# place a Hadamard gate on qubits 0, 1, and 2\n",
        "# YOUR CODE HERE\n",
        "\n",
        "# add a measurement to your circuit\n",
        "qc.measure_all()\n",
        "\n",
        "# visualize the circuit before running it\n",
        "qc.draw(\"mpl\")"
      ],
      "metadata": {
        "id": "21E9sOCqlZYp"
      },
      "execution_count": null,
      "outputs": []
    },
    {
      "cell_type": "markdown",
      "source": [
        "Below, we will run our circuit many times to prove that the gates in our circuit had the intended effect on the outcomes. If they did, we should have the eight possible outcomes occurring an equal number of times (with some variation due to errors from noise). So how do we choose the outcome to use as the result for the Magic 8 Ball in a way that preserves randomness?\n",
        "\n"
      ],
      "metadata": {
        "id": "wb6y4d9hMQjD"
      }
    },
    {
      "cell_type": "code",
      "source": [
        "# invoke the Sampler, run our circuit 1024 times to prove equal superposition, and display resulting measurements\n",
        "\n"
      ],
      "metadata": {
        "id": "Tk3dxub0laNO"
      },
      "execution_count": null,
      "outputs": []
    },
    {
      "cell_type": "code",
      "source": [
        "# plot your results\n"
      ],
      "metadata": {
        "id": "PyQ8qXNuCTnF"
      },
      "execution_count": null,
      "outputs": []
    },
    {
      "cell_type": "code",
      "source": [
        "# invoke the Sampler, run our circuit once to get a result for the Magic 8 Ball, and display resulting measurement\n",
        "\n"
      ],
      "metadata": {
        "id": "SpIXp0OcCR11"
      },
      "execution_count": null,
      "outputs": []
    },
    {
      "cell_type": "code",
      "source": [
        "# accessing the first key of the dict item containing our results\n",
        "first_key = list(counts_sampler.keys())[0]\n",
        "\n",
        "# turning that string into an integer\n",
        "# result is given in base 2, so we need to communicate that because the int() function assumes base 10 as default\n",
        "integer_value = int(first_key, 2)\n",
        "\n",
        "# returns our Magic 8 Ball response\n",
        "print(responses[integer_value])"
      ],
      "metadata": {
        "id": "n1mXtdCYleod"
      },
      "execution_count": null,
      "outputs": []
    },
    {
      "cell_type": "markdown",
      "source": [
        "### Expanding on the Magic 8 Ball\n",
        "\n",
        "increasing likelihood of certain outcomes\n"
      ],
      "metadata": {
        "id": "FVDyAHX5likq"
      }
    },
    {
      "cell_type": "code",
      "source": [
        "# set up a Quantum circuit with 3 qubits\n",
        "# YOUR CODE HERE\n",
        "\n",
        "# place a Hadamard gate on qubits 0, 1, and 2\n",
        "# YOUR CODE HERE\n",
        "\n",
        "# weight the likelihood of certain outcomes by using an Ry gate\n",
        "# YOUR CODE HERE\n",
        "\n",
        "# add a measurement to your circuit\n",
        "qc.measure_all()\n",
        "\n",
        "# visualize the circuit before running it\n",
        "qc.draw(\"mpl\")"
      ],
      "metadata": {
        "id": "Pmlxyud8ljaU"
      },
      "execution_count": null,
      "outputs": []
    },
    {
      "cell_type": "code",
      "source": [
        "# invoke the Sampler, run your circuit 1024 times to prove weighted superposition, and display resulting measurements\n",
        "\n"
      ],
      "metadata": {
        "id": "2jYvGHbRloBG"
      },
      "execution_count": null,
      "outputs": []
    },
    {
      "cell_type": "code",
      "source": [
        "# plot your results\n"
      ],
      "metadata": {
        "id": "K4rDhSDdlq8Y"
      },
      "execution_count": null,
      "outputs": []
    },
    {
      "cell_type": "code",
      "source": [
        "# invoke the Sampler, run your circuit once to get a result for the Magic 8 Ball, and display resulting measurement\n",
        "\n"
      ],
      "metadata": {
        "id": "7ziyCre0DER8"
      },
      "execution_count": null,
      "outputs": []
    },
    {
      "cell_type": "code",
      "source": [
        "# accessing the first key of the dict item containing our results\n",
        "first_key = list(counts_sampler.keys())[0]\n",
        "\n",
        "# turning that string into an integer\n",
        "# result is given in base 2, so we need to communicate that because the int() function assumes base 10 as default\n",
        "integer_value = int(first_key, 2)\n",
        "\n",
        "# returns our Magic 8 Ball response\n",
        "print(responses[integer_value])"
      ],
      "metadata": {
        "id": "JSWamidIHyJO"
      },
      "execution_count": null,
      "outputs": []
    }
  ]
}